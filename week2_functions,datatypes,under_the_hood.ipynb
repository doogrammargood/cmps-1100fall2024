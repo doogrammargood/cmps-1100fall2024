{
 "cells": [
  {
   "cell_type": "markdown",
   "metadata": {},
   "source": [
    "<h1>Functions</h1>\n",
    "A mathematical function is something that has an input and an output. Every input needs to have exactly one output.\n",
    "For mathematical functions, we only care about what the output is, not how to get it.\n",
    "\n",
    "For functions in a programming language, we have inputs (arguments) and outputs (return values). Functions can also have side effects, meaning that they affect other parts of the program. \n",
    "\n",
    "Functions in Python are defined using the keyword \"def\"."
   ]
  },
  {
   "cell_type": "code",
   "execution_count": 49,
   "metadata": {},
   "outputs": [
    {
     "name": "stdout",
     "output_type": "stream",
     "text": [
      "<function print_hello_world at 0x70b5282c8ee0>\n",
      "hello\n"
     ]
    }
   ],
   "source": [
    "def print_hello_world(): #This defines a function called \"print_hello_world\"\n",
    "    print(\"hello\")\n",
    "    return None #We can remove this line, because if there is no return statement, then we return None by default.\n",
    "print(print_hello_world)\n",
    "print_hello_world() #This calls (executes) the function"
   ]
  },
  {
   "cell_type": "markdown",
   "metadata": {},
   "source": [
    "<h2>Why use functions?</h2>\n",
    "\n",
    "It's never necessary to use functions. The point of functions is that they split the code into manageble pieces. "
   ]
  },
  {
   "cell_type": "markdown",
   "metadata": {},
   "source": [
    "Whenever you write a function, it's good practice to leave a comment that explains\n",
    "1. What the purpose of the function is\n",
    "2. What the arguments of the function are\n",
    "3. What the return value is \n",
    "4. Note any side effects\n",
    "5. Any assumptions that you need to make the function work."
   ]
  },
  {
   "cell_type": "code",
   "execution_count": 50,
   "metadata": {},
   "outputs": [
    {
     "name": "stdout",
     "output_type": "stream",
     "text": [
      "6\n",
      "6\n"
     ]
    }
   ],
   "source": [
    "def add_one(x):\n",
    "    '''Assume that x is an integer. \n",
    "    We will return x+1, \n",
    "    the next integer.'''\n",
    "    return x+1\n",
    "print(add_one(5))\n",
    "print(add_one(5))"
   ]
  },
  {
   "cell_type": "markdown",
   "metadata": {},
   "source": [
    "<h2>Scope</h2>\n",
    "\n",
    "Every line of code appears within a context (the surrounding code.) The scope is the set of variables that the line of code is allowed to see, and this depends on the context."
   ]
  },
  {
   "cell_type": "code",
   "execution_count": 54,
   "metadata": {},
   "outputs": [
    {
     "name": "stdout",
     "output_type": "stream",
     "text": [
      "6\n",
      "5\n",
      "6\n"
     ]
    }
   ],
   "source": [
    "x = 5\n",
    "def increment(y):\n",
    "    ''' x is an integer, \n",
    "    we return the next integer, x+1'''\n",
    "    y=y+1 #This assignment is the local scope, inside of the function.\n",
    "    return y\n",
    " #This assignment is at the global scope.\n",
    "print(increment(x))\n",
    "#Now what's the value of x? It could be 5 or 6.\n",
    "print(x)\n",
    "print(increment(x))\n"
   ]
  },
  {
   "cell_type": "markdown",
   "metadata": {},
   "source": [
    "<h2>Functions with side effects.</h2>\n",
    "\n",
    "A side effect is something that running the function changes about the program other than just the output of the program."
   ]
  },
  {
   "cell_type": "code",
   "execution_count": 56,
   "metadata": {},
   "outputs": [
    {
     "name": "stdout",
     "output_type": "stream",
     "text": [
      "The value of the global variable x is  5\n",
      "The value of the local variable x is  7\n",
      "5\n"
     ]
    }
   ],
   "source": [
    "x=5 #This is called a global variable because it is outside of all of the functions.\n",
    "def increment_x(): \n",
    "    x=6 #This is the local variable x because it is inside of the function.\n",
    "    x=x+1\n",
    "    print(\"The value of the local variable x is \", x)\n",
    "    #at this point the value of x is 6\n",
    "    return None\n",
    "print(\"The value of the global variable x is \", x)\n",
    "increment_x()\n",
    "print(x)"
   ]
  },
  {
   "cell_type": "markdown",
   "metadata": {},
   "source": [
    "The example above shows that global variables can cause confusion because the same symbol (x) means different things depending on where in the code it appears."
   ]
  },
  {
   "cell_type": "code",
   "execution_count": 63,
   "metadata": {},
   "outputs": [
    {
     "name": "stdout",
     "output_type": "stream",
     "text": [
      "5\n",
      "7\n"
     ]
    }
   ],
   "source": [
    "x=5\n",
    "def use_global_var(): \n",
    "    '''Using the global variable x inside a function'''\n",
    "    a=x #There is no local variable x, so the interpreter assumes that we mean the global variable x.\n",
    "    return a\n",
    "print(use_global_var())\n",
    "x=7\n",
    "print(use_global_var())\n",
    "#If you use global variables inside a function, the global variable uses the value from the time the function is called.\n",
    "#It does not use the value of the global variable from when the function was defined.\n"
   ]
  },
  {
   "cell_type": "code",
   "execution_count": 67,
   "metadata": {},
   "outputs": [
    {
     "name": "stdout",
     "output_type": "stream",
     "text": [
      "1\n",
      "2\n"
     ]
    }
   ],
   "source": [
    "counter = 0  # Global variable\n",
    "def increment_counter():\n",
    "    global counter  # Declare that we're using the global variable\n",
    "    counter += 1 #This is the same as counter = counter + 1\n",
    "\n",
    "# Example usage\n",
    "increment_counter()\n",
    "print(counter)  # Output will be 1\n",
    "increment_counter()\n",
    "print(counter)  # Output will be 2\n"
   ]
  },
  {
   "cell_type": "markdown",
   "metadata": {},
   "source": [
    "This is an example of a side effect. There's no input, the output is None, but it changes a part of the code outside of the function, namely the value of counter."
   ]
  },
  {
   "cell_type": "code",
   "execution_count": 48,
   "metadata": {},
   "outputs": [
    {
     "name": "stdout",
     "output_type": "stream",
     "text": [
      "<function outer_function.<locals>.inner_function at 0x70b5282cadd0>\n",
      "10\n",
      "10\n",
      "10\n",
      "20\n"
     ]
    }
   ],
   "source": [
    "def outer_function(parameter):\n",
    "    '''assume parameter is an integer.\n",
    "    Returns a function with no input that outputs an integer.\n",
    "    '''\n",
    "    def inner_function():\n",
    "        nonlocal parameter #nonlocal allows you to access \n",
    "        parameter = parameter *2\n",
    "        return parameter\n",
    "    return inner_function\n",
    "print(outer_function(5)) #returns a function\n",
    "print(outer_function(5)()) #prints 10\n",
    "print(outer_function(5)()) #prints 10\n",
    "\n",
    "inner = outer_function(5)\n",
    "print(inner()) #prints 10\n",
    "print(inner()) #prints 20"
   ]
  },
  {
   "cell_type": "code",
   "execution_count": 72,
   "metadata": {},
   "outputs": [
    {
     "name": "stdout",
     "output_type": "stream",
     "text": [
      "15\n"
     ]
    },
    {
     "data": {
      "text/plain": [
       "15"
      ]
     },
     "execution_count": 72,
     "metadata": {},
     "output_type": "execute_result"
    }
   ],
   "source": [
    "#Write a function that adds two numbers\n",
    "def sum_function(int1, int2):\n",
    "    '''int1 and int2 are integers that we want to add'''\n",
    "    return int1 + int2\n",
    "sum_function(5,10)"
   ]
  },
  {
   "cell_type": "markdown",
   "metadata": {},
   "source": [
    "<h2>Currying</h2>\n",
    "\n",
    "If we have a function of two variables, and we give the function a value for the first variable, then we can return a function of one variable."
   ]
  },
  {
   "cell_type": "code",
   "execution_count": 74,
   "metadata": {},
   "outputs": [
    {
     "name": "stdout",
     "output_type": "stream",
     "text": [
      "15\n",
      "15\n"
     ]
    }
   ],
   "source": [
    "def curry(function_of_two_vars, value_for_first_var):\n",
    "    '''function_of_two_vars is a function that takes two variables.\n",
    "    value_for_first_var is a value that the first variable can take.\n",
    "    Return a function of 1 variable, defined by fixing the first variable's value to be value_for_first_variable\n",
    "    '''\n",
    "    def function_to_return(second_var):\n",
    "        return function_of_two_vars(value_for_first_var, second_var)\n",
    "    return function_to_return\n",
    "print(curry(sum_function, 5)(10))"
   ]
  },
  {
   "cell_type": "markdown",
   "metadata": {},
   "source": [
    "<h1>Data Types</h1>\n",
    "\n",
    "We have already seen two data types: integers (int) and strings (str). Here is a reminder:"
   ]
  },
  {
   "cell_type": "code",
   "execution_count": 6,
   "metadata": {},
   "outputs": [
    {
     "name": "stdout",
     "output_type": "stream",
     "text": [
      "<class 'int'>\n",
      "<class 'str'>\n"
     ]
    }
   ],
   "source": [
    "print(type()) # 5 is an integer.\n",
    "print(type(\"5\")) # \"5\" is a string"
   ]
  },
  {
   "cell_type": "markdown",
   "metadata": {},
   "source": [
    "There is an addage: \"In Python, everything is an object.\" Each object has a type. For example, 5 is an object of type integer, and \"5\" is an object of type string.\n",
    "\n",
    "The type of an object helps Python decide how to treat it, as we describe below."
   ]
  },
  {
   "cell_type": "code",
   "execution_count": 3,
   "metadata": {},
   "outputs": [
    {
     "name": "stdout",
     "output_type": "stream",
     "text": [
      "10\n",
      "55\n"
     ]
    }
   ],
   "source": [
    "print(5+5) #Returns 10, because we treat 5 as an integer and add.\n",
    "print(\"5\"+\"5\") #Returns \"55\" because we treat \"5\" as a string and concatenate.\n",
    "#print(\"5\"+5) #This is going to throw an error, because there is no defined way to add a string and an integer."
   ]
  },
  {
   "cell_type": "markdown",
   "metadata": {},
   "source": [
    "Here is the complete (?) list of types in Python: [Source](https://www.w3schools.com/python/python_datatypes.asp)\n",
    "1. Text types:\n",
    "    - str (string, ex \"xyz\")\n",
    "2. Numeric types:\n",
    "    - int (integers ex 5)\n",
    "    - float (numbers with decimals ex 5.55)\n",
    "    - complex (complex numbers ex 5+5j. We use j instead of i for the imaginary unit.)\n",
    "3. Sequence types (These types can contain other objects, which can be of any type.)\n",
    "    - list (ex [5,3,7])\n",
    "    - tuple (ex (5,3,7). Similar to lists, but can't be changed)\n",
    "    - range (ex range(10) is the numbers 1,2,...,9)\n",
    "4. Mapping types\n",
    "    - dict (dictionaries ex {'x':5, 'y':3, 'z':7})\n",
    "5. Set types\n",
    "    - set (like {5,3,7}, similar to lists, but order doesn't matter, can't have repeated elements.)\n",
    "    - frozenset (similar to set, but can't be changed.)\n",
    "6. Boolean types\n",
    "    - bool (either True or False)\n",
    "7. Binary types (We probably won't use these. For low-level programming)\n",
    "    -bytes\n",
    "    -bytearray\n",
    "    -memoryview\n",
    "8. None type\n",
    "    - Nonetype (a type that exists so that None can have a type)"
   ]
  },
  {
   "cell_type": "code",
   "execution_count": 7,
   "metadata": {},
   "outputs": [
    {
     "name": "stdout",
     "output_type": "stream",
     "text": [
      "['shoes', 'shirt', 'socks', 5, 2]\n",
      "shoes\n",
      "sliced list is  ['shirt', 'socks']\n",
      "reverse_list is  [2, 5, 'socks', 'shirt', 's']\n",
      "['s', 'shirt', 'socks', 5, 2]\n",
      "0\n"
     ]
    }
   ],
   "source": [
    "list_1 = [\"shoes\", \"shirt\", \"socks\", 5,2]\n",
    "shoes = \"shoes\"\n",
    "shirt = \"shirt\"\n",
    "socks = \"socks\"\n",
    "list_2= [shoes, shirt, socks]\n",
    "\n",
    "print(list_1)\n",
    "print(list_1[0])\n",
    "#The difference between lists and tuples is that lists can be changed but tuples cannot.\n",
    "list_1[0]=\"s\"\n",
    "sliced_list = list_1[1:3]\n",
    "reverse_list = list_1[::-1]\n",
    "print(\"sliced list is \", sliced_list)\n",
    "print(\"reverse_list is \", reverse_list)\n",
    "print(list_1)\n"
   ]
  },
  {
   "cell_type": "code",
   "execution_count": 12,
   "metadata": {},
   "outputs": [
    {
     "name": "stdout",
     "output_type": "stream",
     "text": [
      "0\n",
      "1\n",
      "2\n",
      "3\n",
      "4\n",
      "5\n",
      "6\n",
      "7\n",
      "8\n",
      "9\n",
      "0\n"
     ]
    }
   ],
   "source": [
    "\n",
    "tuple_1 = (shoes, shirt, socks)\n",
    "#tuple_1[0]=\"s\" #This throws an error because tuples cannot be changed.\n",
    "\n",
    "#Strings also cannot be changed\n",
    "string_to_try_to_change = \"someword\"\n",
    "#string_to_try_to_change[-1] = \"t\" #This throws an error because strings can't be changed.\n",
    "\n",
    "range(10) #like [0,1,.., 9] Will be useful for loops.\n",
    "\n",
    "for item in range(10): #this is a loop. We'll see it again Monday\n",
    "    print(item)\n",
    "\n",
    "ran = range(10)\n",
    "print(ran[0])\n",
    "#ran[0]=6 #You cannot change the items in a range."
   ]
  },
  {
   "cell_type": "code",
   "execution_count": 13,
   "metadata": {},
   "outputs": [
    {
     "name": "stdout",
     "output_type": "stream",
     "text": [
      "1\n",
      "a\n",
      "a\n"
     ]
    }
   ],
   "source": [
    "#Examples of dictionaries\n",
    "dict = {'x':1, 'y':2} #Dictionaries have the form {key:value, another_key:another_value}, and the order of key/value pairs doesn't matter.\n",
    "print(dict['x'])\n",
    "#Dictionaries are like lists because we can do this:\n",
    "dict_like_list = {0: 'a', 1:'b', 2:'c', 5:'d'}\n",
    "similar_list = ['a','b','c']\n",
    "print(dict_like_list[0])\n",
    "print(similar_list[0]) #This and the line above should both print 'a'\n",
    "\n",
    "#What is the difference in use cases between dictionaries and lists? The main difference is speed."
   ]
  },
  {
   "cell_type": "code",
   "execution_count": 15,
   "metadata": {},
   "outputs": [
    {
     "name": "stdout",
     "output_type": "stream",
     "text": [
      "True\n"
     ]
    }
   ],
   "source": [
    "#Sets are like lists but the order doesn't matter and you can't have repetitions\n",
    "s = {5,3,1}\n",
    "s2 = {5,5,1,3}\n",
    "print(s == s2)\n",
    "\n",
    "#Sets are faster than lists, but you can't use repetition or order.\n",
    "\n"
   ]
  },
  {
   "cell_type": "code",
   "execution_count": 17,
   "metadata": {},
   "outputs": [
    {
     "name": "stdout",
     "output_type": "stream",
     "text": [
      "<class 'bool'>\n",
      "<class 'bool'>\n",
      "<class 'bool'>\n",
      "False\n",
      "True\n"
     ]
    }
   ],
   "source": [
    "#Boolean types are true or false\n",
    "print(type(True))\n",
    "print(type(False))\n",
    "print(type(True == False)) # print(type(False))\n",
    "#You can also use the operators 'and' and 'or' to combine booleans.\n",
    "print(True and False)\n",
    "print(True or False)"
   ]
  },
  {
   "cell_type": "code",
   "execution_count": 35,
   "metadata": {},
   "outputs": [
    {
     "name": "stdout",
     "output_type": "stream",
     "text": [
      "<class 'NoneType'>\n"
     ]
    }
   ],
   "source": [
    "print(type(None))"
   ]
  },
  {
   "cell_type": "code",
   "execution_count": 28,
   "metadata": {},
   "outputs": [
    {
     "name": "stdout",
     "output_type": "stream",
     "text": [
      "<class 'int'>\n",
      "<class 'float'>\n",
      "5\n",
      "5.0\n",
      "True\n",
      "<class 'int'>\n",
      "<class 'float'>\n",
      "False\n"
     ]
    },
    {
     "ename": "TypeError",
     "evalue": "'int' object is not iterable",
     "output_type": "error",
     "traceback": [
      "\u001b[0;31m---------------------------------------------------------------------------\u001b[0m",
      "\u001b[0;31mTypeError\u001b[0m                                 Traceback (most recent call last)",
      "Cell \u001b[0;32mIn[28], line 13\u001b[0m\n\u001b[1;32m     10\u001b[0m \u001b[38;5;28mprint\u001b[39m(\u001b[38;5;28mtype\u001b[39m(y))\n\u001b[1;32m     11\u001b[0m \u001b[38;5;28mprint\u001b[39m(x\u001b[38;5;241m==\u001b[39m\u001b[38;5;124m\"\u001b[39m\u001b[38;5;124mx\u001b[39m\u001b[38;5;124m\"\u001b[39m)\n\u001b[0;32m---> 13\u001b[0m z \u001b[38;5;241m=\u001b[39m \u001b[38;5;28;43mlist\u001b[39;49m\u001b[43m(\u001b[49m\u001b[43mx\u001b[49m\u001b[43m)\u001b[49m \u001b[38;5;66;03m#This throws an error, because you can't change types from integer to list.\u001b[39;00m\n\u001b[1;32m     14\u001b[0m \u001b[38;5;66;03m#print(z)\u001b[39;00m\n",
      "\u001b[0;31mTypeError\u001b[0m: 'int' object is not iterable"
     ]
    }
   ],
   "source": [
    "#You can sometimes change types. Not all the time.\n",
    "x=5\n",
    "print(type(x))\n",
    "y = float(x)\n",
    "print(type(y))\n",
    "print(x)\n",
    "print(y)\n",
    "print(x==y)\n",
    "print(type(x))\n",
    "print(type(y))\n",
    "print(x==\"x\")\n",
    "\n",
    "z = list(x) #This throws an error, because you can't change types from integer to list.\n",
    "#print(z)"
   ]
  },
  {
   "cell_type": "code",
   "execution_count": 22,
   "metadata": {},
   "outputs": [
    {
     "ename": "SyntaxError",
     "evalue": "invalid syntax (3883195679.py, line 9)",
     "output_type": "error",
     "traceback": [
      "\u001b[0;36m  Cell \u001b[0;32mIn[22], line 9\u001b[0;36m\u001b[0m\n\u001b[0;31m    print(type(in)) #Apparently the built in keywords don't have types.\u001b[0m\n\u001b[0m               ^\u001b[0m\n\u001b[0;31mSyntaxError\u001b[0m\u001b[0;31m:\u001b[0m invalid syntax\n"
     ]
    }
   ],
   "source": [
    "#Ok, but what's the type of a type?\n",
    "print(type(type(5))) #Apparently, the list above is not complete. The list here looks complete: https://docs.python.org/3/library/types.html\n",
    "\n",
    "#another thing missing from the list:\n",
    "def a_function():\n",
    "    return None\n",
    "print(type(a_function))\n",
    "\n",
    "#print(type(in)) #Apparently the built in keywords don't have types."
   ]
  },
  {
   "cell_type": "markdown",
   "metadata": {},
   "source": [
    "A stack is something that can do the following:\n",
    "\n",
    "- you can put objects on top (push)\n",
    "- you can take an object off of the top (pop)"
   ]
  },
  {
   "cell_type": "markdown",
   "metadata": {},
   "source": [
    "<h3>Python under the hood</h3>\n",
    "\n",
    "What happens when you press run on your code?\n",
    "\n",
    "1. The code gets compiled from source to bytecode.\n",
    "    - Tokenization (The interpreter will reads the sourcecode and makes a \"token\" out of every word. For example, each variable name will get its own token, which is an interenal representation of that variable\n",
    "    - Parsing: Make sure each line has a valid syntax and creates an internal representation of each line.\n",
    "    - Abstract Syntax Tree: An internal representation of what each piece of code connects to.\n",
    "    - Control flow graph: optimizes the abstract syntax tree\n",
    "    - Creates Bytecode.\n",
    "2. The Python virtual machine runs the bytecode. The point of the virutal machine is to abstract away from the physical computers so that the same sourcecode will produce the same progam, even on different machines.\n",
    "    - The virtual machine maintains two stacks:\n",
    "        - The call stack: (Keeps track of which functions have been called)\n",
    "        - The evaluation stack: evaluates each line, like (x=(5+5)*3)."
   ]
  },
  {
   "cell_type": "code",
   "execution_count": 3,
   "metadata": {},
   "outputs": [
    {
     "name": "stdout",
     "output_type": "stream",
     "text": [
      "  5           0 LOAD_CONST               1 ('Hello, World!')\n",
      "              2 RETURN_VALUE\n"
     ]
    }
   ],
   "source": [
    "#You can look at the bytecode, and this can be helpful for debugging weird errors.\n",
    "import dis\n",
    "\n",
    "def my_function():\n",
    "    return \"Hello, World!\"\n",
    "\n",
    "dis.dis(my_function)\n"
   ]
  },
  {
   "cell_type": "markdown",
   "metadata": {},
   "source": [
    "<h3>Classes (custom types)</h3>\n",
    "\n",
    "You can create your own types, called classes, and then you can define your own functions that operate on these classes."
   ]
  },
  {
   "cell_type": "code",
   "execution_count": 22,
   "metadata": {},
   "outputs": [
    {
     "name": "stdout",
     "output_type": "stream",
     "text": [
      "<__main__.circle object at 0x74ec2c3c2b90>\n",
      "<class '__main__.circle'>\n",
      "5\n",
      "31.41592653589793\n",
      "31.41592653589793\n",
      "56.548667764616276\n"
     ]
    },
    {
     "ename": "TypeError",
     "evalue": "unsupported operand type(s) for +: 'int' and 'circle'",
     "output_type": "error",
     "traceback": [
      "\u001b[0;31m---------------------------------------------------------------------------\u001b[0m",
      "\u001b[0;31mTypeError\u001b[0m                                 Traceback (most recent call last)",
      "Cell \u001b[0;32mIn[22], line 30\u001b[0m\n\u001b[1;32m     27\u001b[0m \u001b[38;5;28mprint\u001b[39m(c\u001b[38;5;241m.\u001b[39mcircumference())\n\u001b[1;32m     28\u001b[0m \u001b[38;5;28mprint\u001b[39m(new_circle\u001b[38;5;241m.\u001b[39mcircumference())\n\u001b[0;32m---> 30\u001b[0m new_circle_2 \u001b[38;5;241m=\u001b[39m \u001b[38;5;241;43m4\u001b[39;49m\u001b[38;5;241;43m+\u001b[39;49m\u001b[43mc\u001b[49m \u001b[38;5;66;03m#throws an error.\u001b[39;00m\n",
      "\u001b[0;31mTypeError\u001b[0m: unsupported operand type(s) for +: 'int' and 'circle'"
     ]
    }
   ],
   "source": [
    "import math\n",
    "\n",
    "class circle():\n",
    "    def __init__(self, radius): #The double underscore means that the function is special. __init__ is special because it gets called upon initializiation.\n",
    "        self.radius = radius\n",
    "    \n",
    "    def print_radius(self):\n",
    "        print(self.radius)\n",
    "    \n",
    "    def circumference(self):\n",
    "        #returns the circumference\n",
    "        return 2*math.pi*self.radius\n",
    "    \n",
    "    def __add__(self, radius_increase): #Connects to the + operation.\n",
    "        circle2 = circle(self.radius + radius_increase)\n",
    "        return(circle2)\n",
    "\n",
    "c = circle(5) #should create (initialize) a circle whose radius is 5\n",
    "print(c)\n",
    "print(type(c))\n",
    "c.print_radius() #Not print_radius(c)\n",
    "\n",
    "print(c.circumference())\n",
    "\n",
    "\n",
    "new_circle = c+4\n",
    "print(c.circumference())\n",
    "print(new_circle.circumference())\n",
    "\n",
    "new_circle_2 = 4+c #throws an error."
   ]
  },
  {
   "cell_type": "code",
   "execution_count": 26,
   "metadata": {},
   "outputs": [
    {
     "name": "stdout",
     "output_type": "stream",
     "text": [
      "Polygon with 3 sides, side lengths: [3, 4, 5]\n",
      "Perimeter: 12\n",
      "Is valid polygon? True\n"
     ]
    },
    {
     "data": {
      "text/plain": [
       "False"
      ]
     },
     "execution_count": 26,
     "metadata": {},
     "output_type": "execute_result"
    }
   ],
   "source": [
    "#This came from ChatGPT.\n",
    "class Polygon:\n",
    "    def __init__(self, sides): #This is lacking because the side lengths do not determine the polygon.\n",
    "        \"\"\"\n",
    "        Initialize a polygon with a list of side lengths.\n",
    "\n",
    "        :param sides: A list of positive numbers representing the lengths of the sides.\n",
    "        \"\"\"\n",
    "        if len(sides) < 3:\n",
    "            raise ValueError(\"A polygon must have at least 3 sides.\")\n",
    "        \n",
    "        self.sides = sides #[s + 1 for s in sides]\n",
    "\n",
    "    def perimeter(self):\n",
    "        \"\"\"\n",
    "        Calculate the perimeter of the polygon.\n",
    "\n",
    "        :return: The perimeter of the polygon.\n",
    "        \"\"\"\n",
    "        return sum(self.sides)\n",
    "\n",
    "    def is_valid(self):\n",
    "        \"\"\"\n",
    "        Check if the polygon is valid.\n",
    "\n",
    "        A polygon is valid if the sum of the lengths of any (n-1) sides is greater than the length of the remaining side.\n",
    "\n",
    "        :return: True if the polygon is valid, False otherwise.\n",
    "        \"\"\"\n",
    "        n = len(self.sides)\n",
    "        for i in range(n):\n",
    "            if self.sides[i] >= sum(self.sides) - self.sides[i]:\n",
    "                return False\n",
    "        return True\n",
    "\n",
    "    def display(self):\n",
    "        \"\"\"\n",
    "        Display information about the polygon.\n",
    "\n",
    "        :return: A string representation of the polygon.\n",
    "        \"\"\"\n",
    "        return f\"Polygon with {len(self.sides)} sides, side lengths: {self.sides}\"\n",
    "\n",
    "# Example usage:\n",
    "polygon = Polygon([3, 4, 5])\n",
    "print(polygon.display())          # Output: Polygon with 3 sides, side lengths: [3, 4, 5]\n",
    "print(\"Perimeter:\", polygon.perimeter())  # Output: Perimeter: 12\n",
    "print(\"Is valid polygon?\", polygon.is_valid())  # Output: Is valid polygon? True\n",
    "\n",
    "invalid_polygon= Polygon([1,1,6])\n",
    "invalid_polygon.is_valid()\n"
   ]
  },
  {
   "cell_type": "code",
   "execution_count": null,
   "metadata": {},
   "outputs": [],
   "source": []
  }
 ],
 "metadata": {
  "kernelspec": {
   "display_name": "Python 3",
   "language": "python",
   "name": "python3"
  },
  "language_info": {
   "codemirror_mode": {
    "name": "ipython",
    "version": 3
   },
   "file_extension": ".py",
   "mimetype": "text/x-python",
   "name": "python",
   "nbconvert_exporter": "python",
   "pygments_lexer": "ipython3",
   "version": "3.10.12"
  }
 },
 "nbformat": 4,
 "nbformat_minor": 2
}
