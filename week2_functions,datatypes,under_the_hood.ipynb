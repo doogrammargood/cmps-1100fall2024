{
 "cells": [
  {
   "cell_type": "markdown",
   "metadata": {},
   "source": [
    "<h1>Functions</h1>\n",
    "A mathematical function is something that has an input and an output. Every input needs to have exactly one output.\n",
    "For mathematical functions, we only care about what the output is, not how to get it.\n",
    "\n",
    "For functions in a programming language, we have inputs (arguments) and outputs (return values). Functions can also have side effects, meaning that they affect other parts of the program. \n",
    "\n",
    "Functions in Python are defined using the keyword \"def\"."
   ]
  },
  {
   "cell_type": "code",
   "execution_count": 49,
   "metadata": {},
   "outputs": [
    {
     "name": "stdout",
     "output_type": "stream",
     "text": [
      "<function print_hello_world at 0x70b5282c8ee0>\n",
      "hello\n"
     ]
    }
   ],
   "source": [
    "def print_hello_world(): #This defines a function called \"print_hello_world\"\n",
    "    print(\"hello\")\n",
    "    return None #We can remove this line, because if there is no return statement, then we return None by default.\n",
    "print(print_hello_world)\n",
    "print_hello_world() #This calls (executes) the function"
   ]
  },
  {
   "cell_type": "markdown",
   "metadata": {},
   "source": [
    "<h2>Why use functions?<h2>\n",
    "\n",
    "It's never necessary to use functions. The point of functions is that they split the code into manageble pieces. "
   ]
  },
  {
   "cell_type": "markdown",
   "metadata": {},
   "source": [
    "Whenever you write a function, it's good practice to leave a comment that explains\n",
    "1. What the purpose of the function is\n",
    "2. What the arguments of the function are\n",
    "3. What the return value is \n",
    "4. Note any side effects\n",
    "5. Any assumptions that you need to make the function work."
   ]
  },
  {
   "cell_type": "code",
   "execution_count": 50,
   "metadata": {},
   "outputs": [
    {
     "name": "stdout",
     "output_type": "stream",
     "text": [
      "6\n",
      "6\n"
     ]
    }
   ],
   "source": [
    "def add_one(x):\n",
    "    '''Assume that x is an integer. \n",
    "    We will return x+1, \n",
    "    the next integer.'''\n",
    "    return x+1\n",
    "print(add_one(5))\n",
    "print(add_one(5))"
   ]
  },
  {
   "cell_type": "markdown",
   "metadata": {},
   "source": [
    "<h2>Scope</h2>\n",
    "\n",
    "Every line of code appears within a context (the surrounding code.) The scope is the set of variables that the line of code is allowed to see, and this depends on the context."
   ]
  },
  {
   "cell_type": "code",
   "execution_count": 54,
   "metadata": {},
   "outputs": [
    {
     "name": "stdout",
     "output_type": "stream",
     "text": [
      "6\n",
      "5\n",
      "6\n"
     ]
    }
   ],
   "source": [
    "x = 5\n",
    "def increment(y):\n",
    "    ''' x is an integer, \n",
    "    we return the next integer, x+1'''\n",
    "    y=y+1 #This assignment is the local scope, inside of the function.\n",
    "    return y\n",
    " #This assignment is at the global scope.\n",
    "print(increment(x))\n",
    "#Now what's the value of x? It could be 5 or 6.\n",
    "print(x)\n",
    "print(increment(x))\n"
   ]
  },
  {
   "cell_type": "markdown",
   "metadata": {},
   "source": [
    "<h2>Functions with side effects.</h2>\n",
    "\n",
    "A side effect is something that running the function changes about the program other than just the output of the program."
   ]
  },
  {
   "cell_type": "code",
   "execution_count": 56,
   "metadata": {},
   "outputs": [
    {
     "name": "stdout",
     "output_type": "stream",
     "text": [
      "The value of the global variable x is  5\n",
      "The value of the local variable x is  7\n",
      "5\n"
     ]
    }
   ],
   "source": [
    "x=5 #This is called a global variable because it is outside of all of the functions.\n",
    "def increment_x(): \n",
    "    x=6 #This is the local variable x because it is inside of the function.\n",
    "    x=x+1\n",
    "    print(\"The value of the local variable x is \", x)\n",
    "    #at this point the value of x is 6\n",
    "    return None\n",
    "print(\"The value of the global variable x is \", x)\n",
    "increment_x()\n",
    "print(x)"
   ]
  },
  {
   "cell_type": "markdown",
   "metadata": {},
   "source": [
    "The example above shows that global variables can cause confusion because the same symbol (x) means different things depending on where in the code it appears."
   ]
  },
  {
   "cell_type": "code",
   "execution_count": 63,
   "metadata": {},
   "outputs": [
    {
     "name": "stdout",
     "output_type": "stream",
     "text": [
      "5\n",
      "7\n"
     ]
    }
   ],
   "source": [
    "x=5\n",
    "def use_global_var(): \n",
    "    '''Using the global variable x inside a function'''\n",
    "    a=x #There is no local variable x, so the interpreter assumes that we mean the global variable x.\n",
    "    return a\n",
    "print(use_global_var())\n",
    "x=7\n",
    "print(use_global_var())\n",
    "#If you use global variables inside a function, the global variable uses the value from the time the function is called.\n",
    "#It does not use the value of the global variable from when the function was defined.\n"
   ]
  },
  {
   "cell_type": "code",
   "execution_count": 67,
   "metadata": {},
   "outputs": [
    {
     "name": "stdout",
     "output_type": "stream",
     "text": [
      "1\n",
      "2\n"
     ]
    }
   ],
   "source": [
    "counter = 0  # Global variable\n",
    "def increment_counter():\n",
    "    global counter  # Declare that we're using the global variable\n",
    "    counter += 1 #This is the same as counter = counter + 1\n",
    "\n",
    "# Example usage\n",
    "increment_counter()\n",
    "print(counter)  # Output will be 1\n",
    "increment_counter()\n",
    "print(counter)  # Output will be 2\n"
   ]
  },
  {
   "cell_type": "markdown",
   "metadata": {},
   "source": [
    "This is an example of a side effect. There's no input, the output is None, but it changes a part of the code outside of the function, namely the value of counter."
   ]
  },
  {
   "cell_type": "code",
   "execution_count": 48,
   "metadata": {},
   "outputs": [
    {
     "name": "stdout",
     "output_type": "stream",
     "text": [
      "<function outer_function.<locals>.inner_function at 0x70b5282cadd0>\n",
      "10\n",
      "10\n",
      "10\n",
      "20\n"
     ]
    }
   ],
   "source": [
    "def outer_function(parameter):\n",
    "    '''assume parameter is an integer.\n",
    "    Returns a function with no input that outputs an integer.\n",
    "    '''\n",
    "    def inner_function():\n",
    "        nonlocal parameter #nonlocal allows you to access \n",
    "        parameter = parameter *2\n",
    "        return parameter\n",
    "    return inner_function\n",
    "print(outer_function(5)) #returns a function\n",
    "print(outer_function(5)()) #prints 10\n",
    "print(outer_function(5)()) #prints 10\n",
    "\n",
    "inner = outer_function(5)\n",
    "print(inner()) #prints 10\n",
    "print(inner()) #prints 20"
   ]
  },
  {
   "cell_type": "code",
   "execution_count": 72,
   "metadata": {},
   "outputs": [
    {
     "name": "stdout",
     "output_type": "stream",
     "text": [
      "15\n"
     ]
    },
    {
     "data": {
      "text/plain": [
       "15"
      ]
     },
     "execution_count": 72,
     "metadata": {},
     "output_type": "execute_result"
    }
   ],
   "source": [
    "#Write a function that adds two numbers\n",
    "def sum_function(int1, int2):\n",
    "    '''int1 and int2 are integers that we want to add'''\n",
    "    return int1 + int2\n",
    "sum_function(5,10)"
   ]
  },
  {
   "cell_type": "markdown",
   "metadata": {},
   "source": [
    "<h2>Currying</h2>\n",
    "\n",
    "If we have a function of two variables, and we give the function a value for the first variable, then we can return a function of one variable."
   ]
  },
  {
   "cell_type": "code",
   "execution_count": 74,
   "metadata": {},
   "outputs": [
    {
     "name": "stdout",
     "output_type": "stream",
     "text": [
      "15\n",
      "15\n"
     ]
    }
   ],
   "source": [
    "def curry(function_of_two_vars, value_for_first_var):\n",
    "    '''function_of_two_vars is a function that takes two variables.\n",
    "    value_for_first_var is a value that the first variable can take.\n",
    "    Return a function of 1 variable, defined by fixing the first variable's value to be value_for_first_variable\n",
    "    '''\n",
    "    def function_to_return(second_var):\n",
    "        return function_of_two_vars(value_for_first_var, second_var)\n",
    "    return function_to_return\n",
    "print(curry(sum_function, 5)(10))"
   ]
  },
  {
   "cell_type": "code",
   "execution_count": null,
   "metadata": {},
   "outputs": [],
   "source": []
  }
 ],
 "metadata": {
  "kernelspec": {
   "display_name": "Python 3",
   "language": "python",
   "name": "python3"
  },
  "language_info": {
   "codemirror_mode": {
    "name": "ipython",
    "version": 3
   },
   "file_extension": ".py",
   "mimetype": "text/x-python",
   "name": "python",
   "nbconvert_exporter": "python",
   "pygments_lexer": "ipython3",
   "version": "3.10.12"
  }
 },
 "nbformat": 4,
 "nbformat_minor": 2
}
