{
 "cells": [
  {
   "cell_type": "markdown",
   "metadata": {},
   "source": [
    "<h1>Conditional Statements</h1>\n",
    "\n",
    "We talked about the Boolean type, which takes values that are either True or False. Let's see what you con do with booleans.\n",
    "\n",
    "We can do all of the basic logical operations:"
   ]
  },
  {
   "cell_type": "code",
   "execution_count": null,
   "metadata": {},
   "outputs": [],
   "source": [
    "x=True\n",
    "y = False\n",
    "\n",
    "print(\"and\", x and y)\n",
    "print(\"or\", x or y)\n",
    "print(\"not\", not y)\n",
    "#Other logical operators \"implies\" \"iff\"\n",
    "print(\"x implies y\", x <= y, (not x) or y)\n",
    "z = 5<=4 # assigns z to be False\n",
    "print(z)\n",
    "print(int(x))\n",
    "print(int(y))\n",
    "print(\"iff \", x==y)"
   ]
  },
  {
   "cell_type": "code",
   "execution_count": null,
   "metadata": {},
   "outputs": [],
   "source": [
    "#Use the keyword if to write programs that can make descisions.\n",
    "x=False\n",
    "y=True\n",
    "if x:\n",
    "    print(\"x is True\")\n",
    "else:\n",
    "    print(\"x is False\")\n",
    "\n",
    "#We can have nested if statements where you first check one condition, then inside the if statement, check another condition.\n",
    "if x or not y:\n",
    "    if x:\n",
    "        print(\"In this case, (x or y) and x\")\n",
    "    else:\n",
    "        print(\"In this case, (x or y) and not x\")\n",
    "print(x or not y)\n",
    "print(x) #should be False\n",
    "print(not y)\n",
    "print(y)\n",
    "\n",
    "    "
   ]
  },
  {
   "cell_type": "code",
   "execution_count": null,
   "metadata": {},
   "outputs": [],
   "source": [
    "def is_triangle(side1,side2,side3): #Takes 3 side lengths (floats)\n",
    "    #Return True iff you can make a triangle with these sidelengths.\n",
    "    if side1<0 or side2<0 or side3<0:\n",
    "        return False\n",
    "    elif side1 + side2 < side3:\n",
    "        return False\n",
    "    elif side1+side3 < side2:\n",
    "        return False\n",
    "    elif side2+side3 < side1:\n",
    "        return False\n",
    "    else:\n",
    "        return True\n",
    "print(is_triangle(3,4,5))\n",
    "print(is_triangle(10,2,3))\n"
   ]
  },
  {
   "cell_type": "markdown",
   "metadata": {},
   "source": [
    "<H1>Loops</H1>\n",
    "\n",
    "Loops are a structure in a program that execute over and over again.\n",
    "\n",
    "In Python there are two types of loops, the For loop and the While loop."
   ]
  },
  {
   "cell_type": "code",
   "execution_count": 35,
   "metadata": {},
   "outputs": [
    {
     "name": "stdout",
     "output_type": "stream",
     "text": [
      "0\n",
      "1\n",
      "2\n",
      "3\n",
      "4\n",
      "5\n",
      "6\n",
      "7\n",
      "8\n",
      "9\n",
      "10\n",
      "11\n",
      "12\n",
      "13\n",
      "14\n",
      "15\n",
      "16\n",
      "17\n",
      "18\n",
      "19\n"
     ]
    }
   ],
   "source": [
    "for x in range(20): #range 10 is the numbers 0..9\n",
    "    print(x)"
   ]
  },
  {
   "cell_type": "markdown",
   "metadata": {},
   "source": [
    "Let's see how the slicing operations allow us to change the loops."
   ]
  },
  {
   "cell_type": "code",
   "execution_count": 40,
   "metadata": {},
   "outputs": [
    {
     "name": "stdout",
     "output_type": "stream",
     "text": [
      "s\n",
      "u\n"
     ]
    }
   ],
   "source": [
    "a=3\n",
    "b=7\n",
    "c=2\n",
    "# for x in range(10)[a:b:c]:\n",
    "#     print(x)\n",
    "s = \"sahsauhcrsuh\"\n",
    "for x in s[3:7:2]:\n",
    "    print(x)\n",
    "\n",
    "# for x in range(a,b,c):\n",
    "#     print(x)"
   ]
  },
  {
   "cell_type": "markdown",
   "metadata": {},
   "source": [
    "Let's rewrite our loops using the 'While' construct. While loops check a condition and run code \"while\" the condition holds."
   ]
  },
  {
   "cell_type": "code",
   "execution_count": 42,
   "metadata": {},
   "outputs": [
    {
     "name": "stdout",
     "output_type": "stream",
     "text": [
      "0\n",
      "1\n",
      "2\n",
      "3\n",
      "4\n",
      "5\n",
      "6\n",
      "7\n",
      "8\n",
      "9\n"
     ]
    }
   ],
   "source": [
    "x=0\n",
    "while x<10:\n",
    "    print(x)\n",
    "    x += 1 #same as x=x+1"
   ]
  },
  {
   "cell_type": "code",
   "execution_count": 43,
   "metadata": {},
   "outputs": [
    {
     "name": "stdout",
     "output_type": "stream",
     "text": [
      "x is  567\n",
      "x is  1702\n",
      "x is  851\n",
      "x is  2554\n",
      "x is  1277\n",
      "x is  3832\n",
      "x is  1916\n",
      "x is  958\n",
      "x is  479\n",
      "x is  1438\n",
      "x is  719\n",
      "x is  2158\n",
      "x is  1079\n",
      "x is  3238\n",
      "x is  1619\n",
      "x is  4858\n",
      "x is  2429\n",
      "x is  7288\n",
      "x is  3644\n",
      "x is  1822\n",
      "x is  911\n",
      "x is  2734\n",
      "x is  1367\n",
      "x is  4102\n",
      "x is  2051\n",
      "x is  6154\n",
      "x is  3077\n",
      "x is  9232\n",
      "x is  4616\n",
      "x is  2308\n",
      "x is  1154\n",
      "x is  577\n",
      "x is  1732\n",
      "x is  866\n",
      "x is  433\n",
      "x is  1300\n",
      "x is  650\n",
      "x is  325\n",
      "x is  976\n",
      "x is  488\n",
      "x is  244\n",
      "x is  122\n",
      "x is  61\n",
      "x is  184\n",
      "x is  92\n",
      "x is  46\n",
      "x is  23\n",
      "x is  70\n",
      "x is  35\n",
      "x is  106\n",
      "x is  53\n",
      "x is  160\n",
      "x is  80\n",
      "x is  40\n",
      "x is  20\n",
      "x is  10\n",
      "x is  5\n",
      "x is  16\n",
      "x is  8\n",
      "x is  4\n",
      "x is  2\n",
      "number of steps  61\n"
     ]
    }
   ],
   "source": [
    "#Collatz conjecture\n",
    "def collatz_function(n):#Assume n is a natural number\n",
    "    if n%2==0:\n",
    "        return n//2\n",
    "    else:\n",
    "        return 3*n+1\n",
    "\n",
    "x=567\n",
    "step_count= 0\n",
    "while x != 1:\n",
    "    print(\"x is \", x)\n",
    "    x = collatz_function(x)\n",
    "    step_count +=1\n",
    "\n",
    "print(\"number of steps \",step_count)\n"
   ]
  },
  {
   "cell_type": "markdown",
   "metadata": {},
   "source": [
    "<h3>Nested loops</h3>\n",
    "\n",
    "You can put one loop inside of another."
   ]
  },
  {
   "cell_type": "code",
   "execution_count": 44,
   "metadata": {},
   "outputs": [
    {
     "name": "stdout",
     "output_type": "stream",
     "text": [
      "---\n",
      "0\n",
      "---\n",
      "0\n",
      "1\n",
      "---\n",
      "0\n",
      "1\n",
      "2\n",
      "---\n",
      "0\n",
      "1\n",
      "2\n",
      "3\n",
      "---\n",
      "0\n",
      "1\n",
      "2\n",
      "3\n",
      "4\n",
      "---\n",
      "0\n",
      "1\n",
      "2\n",
      "3\n",
      "4\n",
      "5\n",
      "---\n",
      "0\n",
      "1\n",
      "2\n",
      "3\n",
      "4\n",
      "5\n",
      "6\n",
      "---\n",
      "0\n",
      "1\n",
      "2\n",
      "3\n",
      "4\n",
      "5\n",
      "6\n",
      "7\n",
      "---\n",
      "0\n",
      "1\n",
      "2\n",
      "3\n",
      "4\n",
      "5\n",
      "6\n",
      "7\n",
      "8\n",
      "---\n"
     ]
    }
   ],
   "source": [
    "for x in range(10):\n",
    "    for y in range(x):\n",
    "        print(y)\n",
    "    print(\"---\")"
   ]
  },
  {
   "cell_type": "markdown",
   "metadata": {},
   "source": [
    "<h3>Pyramid of Stars</h3>\n",
    "\n",
    "A classic homework assignment to illustrate nested loops is to make shapes of out *'s.\n",
    "\n",
    "1. Given $n$, create an $n\\times n$ square of stars.\n",
    "2. Create a pyramid of stars."
   ]
  },
  {
   "cell_type": "code",
   "execution_count": 45,
   "metadata": {},
   "outputs": [
    {
     "name": "stdout",
     "output_type": "stream",
     "text": [
      "*\n",
      "*\n",
      "*\n",
      "*\n",
      "*\n",
      "*\n",
      "*\n",
      "*\n",
      "*\n"
     ]
    }
   ],
   "source": [
    "n=3\n",
    "for x in range(n):\n",
    "    for y in range(n):\n",
    "        print('*') #this doesn't create a square of stars because print creates a new line each time it is called."
   ]
  },
  {
   "cell_type": "code",
   "execution_count": 53,
   "metadata": {},
   "outputs": [
    {
     "name": "stdout",
     "output_type": "stream",
     "text": [
      "****\n",
      "****\n",
      "****\n",
      "3\n"
     ]
    }
   ],
   "source": [
    "n=3\n",
    "m=4\n",
    "counter = 0\n",
    "for x in range(n): #number of rows\n",
    "    horizontal_line = \"\"\n",
    "    for y in range(m): #controls how many columns.\n",
    "        horizontal_line = horizontal_line + \"*\"\n",
    "    print(horizontal_line)\n",
    "    counter+=1\n",
    "print(counter)"
   ]
  },
  {
   "cell_type": "code",
   "execution_count": 54,
   "metadata": {},
   "outputs": [
    {
     "name": "stdout",
     "output_type": "stream",
     "text": [
      "*\n",
      "**\n",
      "***\n",
      "****\n",
      "*****\n",
      "******\n",
      "*******\n",
      "1\n"
     ]
    }
   ],
   "source": [
    "n=7\n",
    "counter = 0\n",
    "horizontal_line = \"\"\n",
    "for y in range(n):\n",
    "    horizontal_line = horizontal_line + \"*\"\n",
    "    print(horizontal_line)\n",
    "counter+=1\n",
    "print(counter)"
   ]
  },
  {
   "cell_type": "markdown",
   "metadata": {},
   "source": [
    "<h3>Print the primes</h3>\n",
    "\n",
    "Print out the prime numbers between 1 and 100."
   ]
  },
  {
   "cell_type": "code",
   "execution_count": 56,
   "metadata": {},
   "outputs": [
    {
     "name": "stdout",
     "output_type": "stream",
     "text": [
      "2\n",
      "3\n",
      "5\n",
      "7\n",
      "11\n",
      "13\n",
      "17\n",
      "19\n",
      "23\n",
      "29\n",
      "31\n",
      "37\n",
      "41\n",
      "43\n",
      "47\n",
      "53\n",
      "59\n",
      "61\n",
      "67\n",
      "71\n",
      "73\n",
      "79\n",
      "83\n",
      "89\n",
      "97\n"
     ]
    }
   ],
   "source": [
    "def is_prime(x):\n",
    "    if x==1:\n",
    "        return False\n",
    "    #returns True if x is prime.\n",
    "    #returns False otherwise\n",
    "    for y in range(2,x):\n",
    "        if x%y==0: #if y divides x\n",
    "            return False\n",
    "    return True\n",
    "\n",
    "for x in range(1,101):\n",
    "    if is_prime(x):\n",
    "        print(x)"
   ]
  },
  {
   "cell_type": "code",
   "execution_count": null,
   "metadata": {},
   "outputs": [],
   "source": []
  }
 ],
 "metadata": {
  "kernelspec": {
   "display_name": "Python 3",
   "language": "python",
   "name": "python3"
  },
  "language_info": {
   "codemirror_mode": {
    "name": "ipython",
    "version": 3
   },
   "file_extension": ".py",
   "mimetype": "text/x-python",
   "name": "python",
   "nbconvert_exporter": "python",
   "pygments_lexer": "ipython3",
   "version": "3.10.12"
  }
 },
 "nbformat": 4,
 "nbformat_minor": 2
}
