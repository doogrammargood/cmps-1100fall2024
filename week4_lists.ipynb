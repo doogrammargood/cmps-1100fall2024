{
 "cells": [
  {
   "cell_type": "markdown",
   "metadata": {
    "vscode": {
     "languageId": "html"
    }
   },
   "source": [
    "<h1>Lists</h1>\n",
    "\n",
    "Lists are a type that contain ordered data. They work well with loops, because you can use \"for\" loops to go through the elements of a list. Many times we can get rid of \"for\" loops by using list comprehensions."
   ]
  },
  {
   "cell_type": "code",
   "execution_count": 1,
   "metadata": {},
   "outputs": [
    {
     "name": "stdout",
     "output_type": "stream",
     "text": [
      "[1, 5, 15, 12]\n",
      "2\n",
      "6\n",
      "16\n",
      "13\n"
     ]
    }
   ],
   "source": [
    "list_of_numbers = [1,5,15,12]\n",
    "print(list_of_numbers)\n",
    "for number in list_of_numbers:\n",
    "    print(number+1)"
   ]
  },
  {
   "cell_type": "markdown",
   "metadata": {},
   "source": [
    "<h3>List comprehension</h3>\n",
    "\n",
    "A list comprehension is a set of tools that allow you to create and manipulate lists easily. The format of a list comprehension is \"[expression(x) for x in L if condition(x)]\". This will create a new list of expression(x) where x comes from the list L, but only if condition(x) is met.\""
   ]
  },
  {
   "cell_type": "code",
   "execution_count": 25,
   "metadata": {},
   "outputs": [
    {
     "name": "stdout",
     "output_type": "stream",
     "text": [
      "[1, 5, 15, 12]\n",
      "[2, 6, 16]\n"
     ]
    }
   ],
   "source": [
    "print(list_of_numbers)\n",
    "list_comprehension_example = [x+1 for x in list_of_numbers if x%2==1]\n",
    "print(list_comprehension_example)"
   ]
  },
  {
   "cell_type": "markdown",
   "metadata": {},
   "source": [
    "<h3>List Primes</h3>\n",
    "\n",
    "Let's create a list of the prime numbers up to 1000."
   ]
  },
  {
   "cell_type": "code",
   "execution_count": 26,
   "metadata": {},
   "outputs": [
    {
     "name": "stdout",
     "output_type": "stream",
     "text": [
      "True\n",
      "False\n",
      "True\n",
      "False\n"
     ]
    }
   ],
   "source": [
    "def is_prime(x): #Returns True if x is prime, False otherwise.\n",
    "    if x == 1 or x==0:\n",
    "        return False\n",
    "    for y in range(2,x):\n",
    "        if x%y==0:\n",
    "            return False\n",
    "    return True\n",
    "\n",
    "def is_prime_list(x):\n",
    "    if x ==1 or x==0:\n",
    "        return False\n",
    "    if any([x%y==0 for y in range(2,x)]):\n",
    "        return False\n",
    "    else:\n",
    "        return True\n",
    "print(is_prime(23))\n",
    "print(is_prime(50))\n",
    "\n",
    "print(is_prime_list(23))\n",
    "print(is_prime_list(50))\n"
   ]
  },
  {
   "cell_type": "code",
   "execution_count": 27,
   "metadata": {},
   "outputs": [
    {
     "name": "stdout",
     "output_type": "stream",
     "text": [
      "[2, 3, 5, 7, 11, 13, 17, 19, 23, 29, 31, 37, 41, 43, 47, 53, 59, 61, 67, 71, 73, 79, 83, 89, 97, 101, 103, 107, 109, 113, 127, 131, 137, 139, 149, 151, 157, 163, 167, 173, 179, 181, 191, 193, 197, 199, 211, 223, 227, 229, 233, 239, 241, 251, 257, 263, 269, 271, 277, 281, 283, 293, 307, 311, 313, 317, 331, 337, 347, 349, 353, 359, 367, 373, 379, 383, 389, 397, 401, 409, 419, 421, 431, 433, 439, 443, 449, 457, 461, 463, 467, 479, 487, 491, 499, 503, 509, 521, 523, 541, 547, 557, 563, 569, 571, 577, 587, 593, 599, 601, 607, 613, 617, 619, 631, 641, 643, 647, 653, 659, 661, 673, 677, 683, 691, 701, 709, 719, 727, 733, 739, 743, 751, 757, 761, 769, 773, 787, 797, 809, 811, 821, 823, 827, 829, 839, 853, 857, 859, 863, 877, 881, 883, 887, 907, 911, 919, 929, 937, 941, 947, 953, 967, 971, 977, 983, 991, 997]\n"
     ]
    }
   ],
   "source": [
    "list_of_primes = [x for x in range(1,1001) if is_prime_list(x)]\n",
    "print(list_of_primes)"
   ]
  },
  {
   "cell_type": "markdown",
   "metadata": {},
   "source": [
    "<h3>Other operations with lists</h3>\n",
    "\n",
    "- Enumerate (adds an index)\n",
    "- Zip two lists (put them together)\n",
    "- nest two lists\n",
    "- Chain two lists"
   ]
  },
  {
   "cell_type": "code",
   "execution_count": 29,
   "metadata": {},
   "outputs": [
    {
     "name": "stdout",
     "output_type": "stream",
     "text": [
      "[(0, 1), (1, 5), (2, 9), (3, 111)]\n",
      "0 1\n",
      "1 5\n",
      "2 9\n",
      "3 111\n"
     ]
    }
   ],
   "source": [
    "#enumerate\n",
    "print(list(enumerate([1,5,9,111])))\n",
    "for index, x in enumerate([1,5,9,111]):\n",
    "    print(index,x)"
   ]
  },
  {
   "cell_type": "code",
   "execution_count": 30,
   "metadata": {},
   "outputs": [
    {
     "name": "stdout",
     "output_type": "stream",
     "text": [
      "[(4, 1), (6, 9), (8, 3), (33, 6)]\n",
      "[(4, 3), (6, 4), (8, 5), (33, 6)]\n",
      "[(4, 3), (6, 4), (8, 5), (33, 6), (None, 9), (None, 10)]\n",
      "[(3, 4), (4, 6), (5, 8), (6, 33), (9, None), (10, None)]\n",
      "[4, 6, 8, 33, None, None]\n"
     ]
    }
   ],
   "source": [
    "#zip: Takes two lists and combines them like a zipper. Usually the two lists should have the same size.\n",
    "list1 = [4,6,8,33]\n",
    "list2 = [1,9,3,6]\n",
    "list3 = [3,4,5,6,9,10]\n",
    "\n",
    "print(list(zip(list1,list2)))\n",
    "\n",
    "print(list(zip(list1,list3)))\n",
    "#If the two lists are not the same size, apparently, zip removes the last few elements from the longer list.\n",
    "\n",
    "#What if we wanted to fill in the last few elements of the smaller list with None so that the two lists are the same size before zipping?\n",
    "#First find what the maximum length is.\n",
    "max_length = max(len(list1), len(list3))\n",
    "new_list1 = list1 + [None]*(max_length-len(list1))\n",
    "#new_list1 = list1\n",
    "new_list3 = list3 + [None]*(max_length-len(list3))\n",
    "print(list(zip(new_list1, new_list3)))\n",
    "print(list(zip(new_list3, new_list1)))\n",
    "print(new_list1)"
   ]
  },
  {
   "cell_type": "code",
   "execution_count": 33,
   "metadata": {},
   "outputs": [
    {
     "name": "stdout",
     "output_type": "stream",
     "text": [
      "[(0, 2), (1, 3), (2, 5), (3, 7), (4, 11), (5, 13), (6, 17), (7, 19), (8, 23), (9, 29), (10, 31), (11, 37), (12, 41), (13, 43), (14, 47), (15, 53), (16, 59), (17, 61), (18, 67), (19, 71), (20, 73), (21, 79), (22, 83), (23, 89), (24, 97)]\n",
      "[2, 3, 5, 7, 11, 13, 17, 19, 23, 29, 31, 37, 41, 43, 47, 53, 59, 61, 67, 71, 73, 79, 83, 89, 97]\n",
      "[(0, 2), (1, 3), (2, 5), (3, 7), (4, 11), (5, 13), (6, 17), (7, 19), (8, 23), (9, 29), (10, 31), (11, 37), (12, 41), (13, 43), (14, 47), (15, 53), (16, 59), (17, 61), (18, 67), (19, 71), (20, 73), (21, 79), (22, 83), (23, 89), (24, 97)]\n"
     ]
    }
   ],
   "source": [
    "#We never need to use enumerate. Why?\n",
    "primes = [y for y in range(100) if is_prime(y)]\n",
    "print(list(enumerate(primes)))\n",
    "\n",
    "print([x for x in primes])\n",
    "\n",
    "zip_enumerate = list(zip(range(len(primes)),primes))\n",
    "\n",
    "print([x for x in zip_enumerate])"
   ]
  },
  {
   "cell_type": "markdown",
   "metadata": {},
   "source": [
    "<h3>Nesting two lists</h3>\n",
    "\n",
    "You can put lists inside of lists."
   ]
  },
  {
   "cell_type": "code",
   "execution_count": 52,
   "metadata": {},
   "outputs": [
    {
     "name": "stdout",
     "output_type": "stream",
     "text": [
      "[[1, 3, 5, 7, 9], [0, 2, 4, 6, 8]]\n",
      "[[5, 8, 0], [1, 6, 6], [7, 7, 4]]\n",
      "[[0, 0, 0], [1, 2, 3], [2, 4, 6], [3, 6, 9]]\n",
      "[[0, 1, 2, 3], [0, 2, 4, 6], [0, 3, 6, 9]]\n"
     ]
    }
   ],
   "source": [
    "nested_list = [[2,3],[5,7,8],[90,55]]\n",
    "\n",
    "list1 = [1,3,5,7,9]\n",
    "list2 = [0,2,4,6,8]\n",
    "\n",
    "new_nested_list = [list1,list2]\n",
    "print(new_nested_list)\n",
    "\n",
    "another_nested_list = [[5,8,0],[1,6,6],[7,7,4]]\n",
    "print(another_nested_list)\n",
    "\n",
    "num_rows = 4\n",
    "num_columns =3\n",
    "a_nested_list_using_list_comprehensions = [[ (column+1)*(row) for column in range(num_columns)]for row in range(num_rows)]\n",
    "print(a_nested_list_using_list_comprehensions)\n",
    "\n",
    "def transpose(nested_list):\n",
    "    #returns the transpose of the nested list\n",
    "    to_return = [[nested_list[col][row] for col in range(len(nested_list))] for row in range(len(nested_list[0]))]\n",
    "    return to_return\n",
    "print(transpose(a_nested_list_using_list_comprehensions))"
   ]
  },
  {
   "cell_type": "code",
   "execution_count": 40,
   "metadata": {},
   "outputs": [
    {
     "name": "stdout",
     "output_type": "stream",
     "text": [
      "[0, 1, 2, 3, 4, 5, 6, 7, 8, 9]\n"
     ]
    }
   ],
   "source": [
    "print(list(range(10)))"
   ]
  },
  {
   "cell_type": "code",
   "execution_count": null,
   "metadata": {},
   "outputs": [],
   "source": []
  }
 ],
 "metadata": {
  "kernelspec": {
   "display_name": "Python 3",
   "language": "python",
   "name": "python3"
  },
  "language_info": {
   "codemirror_mode": {
    "name": "ipython",
    "version": 3
   },
   "file_extension": ".py",
   "mimetype": "text/x-python",
   "name": "python",
   "nbconvert_exporter": "python",
   "pygments_lexer": "ipython3",
   "version": "3.10.12"
  }
 },
 "nbformat": 4,
 "nbformat_minor": 2
}
