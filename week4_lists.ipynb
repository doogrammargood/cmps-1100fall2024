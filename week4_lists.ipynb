{
 "cells": [
  {
   "cell_type": "markdown",
   "metadata": {
    "vscode": {
     "languageId": "html"
    }
   },
   "source": [
    "<h1>Lists</h1>\n",
    "\n",
    "Lists are a type that contain ordered data. They work well with loops, because you can use \"for\" loops to go through the elements of a list. Many times we can get rid of \"for\" loops by using list comprehensions."
   ]
  },
  {
   "cell_type": "code",
   "execution_count": 1,
   "metadata": {},
   "outputs": [
    {
     "name": "stdout",
     "output_type": "stream",
     "text": [
      "[1, 5, 15, 12]\n",
      "2\n",
      "6\n",
      "16\n",
      "13\n"
     ]
    }
   ],
   "source": [
    "list_of_numbers = [1,5,15,12]\n",
    "print(list_of_numbers)\n",
    "for number in list_of_numbers:\n",
    "    print(number+1)"
   ]
  },
  {
   "cell_type": "markdown",
   "metadata": {},
   "source": [
    "<h3>List comprehension</h3>\n",
    "\n",
    "A list comprehension is a set of tools that allow you to create and manipulate lists easily. The format of a list comprehension is \"[expression(x) for x in L if condition(x)]\". This will create a new list of expression(x) where x comes from the list L, but only if condition(x) is met.\""
   ]
  },
  {
   "cell_type": "code",
   "execution_count": 25,
   "metadata": {},
   "outputs": [
    {
     "name": "stdout",
     "output_type": "stream",
     "text": [
      "[1, 5, 15, 12]\n",
      "[2, 6, 16]\n"
     ]
    }
   ],
   "source": [
    "print(list_of_numbers)\n",
    "list_comprehension_example = [x+1 for x in list_of_numbers if x%2==1]\n",
    "print(list_comprehension_example)"
   ]
  },
  {
   "cell_type": "markdown",
   "metadata": {},
   "source": [
    "<h3>List Primes</h3>\n",
    "\n",
    "Let's create a list of the prime numbers up to 1000."
   ]
  },
  {
   "cell_type": "code",
   "execution_count": 26,
   "metadata": {},
   "outputs": [
    {
     "name": "stdout",
     "output_type": "stream",
     "text": [
      "True\n",
      "False\n",
      "True\n",
      "False\n"
     ]
    }
   ],
   "source": [
    "def is_prime(x): #Returns True if x is prime, False otherwise.\n",
    "    if x == 1 or x==0:\n",
    "        return False\n",
    "    for y in range(2,x):\n",
    "        if x%y==0:\n",
    "            return False\n",
    "    return True\n",
    "\n",
    "def is_prime_list(x):\n",
    "    if x ==1 or x==0:\n",
    "        return False\n",
    "    if any([x%y==0 for y in range(2,x)]):\n",
    "        return False\n",
    "    else:\n",
    "        return True\n",
    "print(is_prime(23))\n",
    "print(is_prime(50))\n",
    "\n",
    "print(is_prime_list(23))\n",
    "print(is_prime_list(50))\n"
   ]
  },
  {
   "cell_type": "code",
   "execution_count": 27,
   "metadata": {},
   "outputs": [
    {
     "name": "stdout",
     "output_type": "stream",
     "text": [
      "[2, 3, 5, 7, 11, 13, 17, 19, 23, 29, 31, 37, 41, 43, 47, 53, 59, 61, 67, 71, 73, 79, 83, 89, 97, 101, 103, 107, 109, 113, 127, 131, 137, 139, 149, 151, 157, 163, 167, 173, 179, 181, 191, 193, 197, 199, 211, 223, 227, 229, 233, 239, 241, 251, 257, 263, 269, 271, 277, 281, 283, 293, 307, 311, 313, 317, 331, 337, 347, 349, 353, 359, 367, 373, 379, 383, 389, 397, 401, 409, 419, 421, 431, 433, 439, 443, 449, 457, 461, 463, 467, 479, 487, 491, 499, 503, 509, 521, 523, 541, 547, 557, 563, 569, 571, 577, 587, 593, 599, 601, 607, 613, 617, 619, 631, 641, 643, 647, 653, 659, 661, 673, 677, 683, 691, 701, 709, 719, 727, 733, 739, 743, 751, 757, 761, 769, 773, 787, 797, 809, 811, 821, 823, 827, 829, 839, 853, 857, 859, 863, 877, 881, 883, 887, 907, 911, 919, 929, 937, 941, 947, 953, 967, 971, 977, 983, 991, 997]\n"
     ]
    }
   ],
   "source": [
    "list_of_primes = [x for x in range(1,1001) if is_prime_list(x)]\n",
    "print(list_of_primes)"
   ]
  },
  {
   "cell_type": "markdown",
   "metadata": {},
   "source": [
    "<h3>Other operations with lists</h3>\n",
    "\n",
    "- Enumerate (adds an index)\n",
    "- Zip two lists (put them together)\n",
    "- nest two lists\n",
    "- Chain (concatenate) two lists"
   ]
  },
  {
   "cell_type": "code",
   "execution_count": 29,
   "metadata": {},
   "outputs": [
    {
     "name": "stdout",
     "output_type": "stream",
     "text": [
      "[(0, 1), (1, 5), (2, 9), (3, 111)]\n",
      "0 1\n",
      "1 5\n",
      "2 9\n",
      "3 111\n"
     ]
    }
   ],
   "source": [
    "#enumerate\n",
    "print(list(enumerate([1,5,9,111])))\n",
    "for index, x in enumerate([1,5,9,111]):\n",
    "    print(index,x)"
   ]
  },
  {
   "cell_type": "code",
   "execution_count": 30,
   "metadata": {},
   "outputs": [
    {
     "name": "stdout",
     "output_type": "stream",
     "text": [
      "[(4, 1), (6, 9), (8, 3), (33, 6)]\n",
      "[(4, 3), (6, 4), (8, 5), (33, 6)]\n",
      "[(4, 3), (6, 4), (8, 5), (33, 6), (None, 9), (None, 10)]\n",
      "[(3, 4), (4, 6), (5, 8), (6, 33), (9, None), (10, None)]\n",
      "[4, 6, 8, 33, None, None]\n"
     ]
    }
   ],
   "source": [
    "#zip: Takes two lists and combines them like a zipper. Usually the two lists should have the same size.\n",
    "list1 = [4,6,8,33]\n",
    "list2 = [1,9,3,6]\n",
    "list3 = [3,4,5,6,9,10]\n",
    "\n",
    "print(list(zip(list1,list2)))\n",
    "\n",
    "print(list(zip(list1,list3)))\n",
    "#If the two lists are not the same size, apparently, zip removes the last few elements from the longer list.\n",
    "\n",
    "#What if we wanted to fill in the last few elements of the smaller list with None so that the two lists are the same size before zipping?\n",
    "#First find what the maximum length is.\n",
    "max_length = max(len(list1), len(list3))\n",
    "new_list1 = list1 + [None]*(max_length-len(list1))\n",
    "#new_list1 = list1\n",
    "new_list3 = list3 + [None]*(max_length-len(list3))\n",
    "print(list(zip(new_list1, new_list3)))\n",
    "print(list(zip(new_list3, new_list1)))\n",
    "print(new_list1)"
   ]
  },
  {
   "cell_type": "code",
   "execution_count": 33,
   "metadata": {},
   "outputs": [
    {
     "name": "stdout",
     "output_type": "stream",
     "text": [
      "[(0, 2), (1, 3), (2, 5), (3, 7), (4, 11), (5, 13), (6, 17), (7, 19), (8, 23), (9, 29), (10, 31), (11, 37), (12, 41), (13, 43), (14, 47), (15, 53), (16, 59), (17, 61), (18, 67), (19, 71), (20, 73), (21, 79), (22, 83), (23, 89), (24, 97)]\n",
      "[2, 3, 5, 7, 11, 13, 17, 19, 23, 29, 31, 37, 41, 43, 47, 53, 59, 61, 67, 71, 73, 79, 83, 89, 97]\n",
      "[(0, 2), (1, 3), (2, 5), (3, 7), (4, 11), (5, 13), (6, 17), (7, 19), (8, 23), (9, 29), (10, 31), (11, 37), (12, 41), (13, 43), (14, 47), (15, 53), (16, 59), (17, 61), (18, 67), (19, 71), (20, 73), (21, 79), (22, 83), (23, 89), (24, 97)]\n"
     ]
    }
   ],
   "source": [
    "#We never need to use enumerate. Why?\n",
    "primes = [y for y in range(100) if is_prime(y)]\n",
    "print(list(enumerate(primes)))\n",
    "\n",
    "print([x for x in primes])\n",
    "\n",
    "zip_enumerate = list(zip(range(len(primes)),primes))\n",
    "\n",
    "print([x for x in zip_enumerate])"
   ]
  },
  {
   "cell_type": "markdown",
   "metadata": {},
   "source": [
    "<h3>Nesting two lists</h3>\n",
    "\n",
    "You can put lists inside of lists."
   ]
  },
  {
   "cell_type": "code",
   "execution_count": 28,
   "metadata": {},
   "outputs": [
    {
     "name": "stdout",
     "output_type": "stream",
     "text": [
      "[[1, 3, 5, 7, 9], [0, 2, 4, 6, 8]]\n",
      "[[5, 8, 0], [1, 6, 6], [7, 7, 4]]\n",
      "nested list using list comprehensions [[0, 0, 0], [1, 2, 3], [2, 4, 6], [3, 6, 9]]\n",
      "this should be nested_list twice [[0, 0, 0], [1, 2, 3], [2, 4, 6], [3, 6, 9]] [[0, 0, 0], [1, 2, 3], [2, 4, 6], [3, 6, 9]]\n",
      "the transpose  [[0, 1, 2, 3], [0, 2, 4, 6], [0, 3, 6, 9]]\n"
     ]
    }
   ],
   "source": [
    "nested_list = [[2,3],[5,7,8],[90,55]]\n",
    "\n",
    "list1 = [1,3,5,7,9]\n",
    "list2 = [0,2,4,6,8]\n",
    "\n",
    "new_nested_list = [list1,list2]\n",
    "print(new_nested_list)\n",
    "\n",
    "another_nested_list = [[5,8,0],[1,6,6],[7,7,4]]\n",
    "print(another_nested_list)\n",
    "\n",
    "num_rows = 4\n",
    "num_columns =3\n",
    "a_nested_list_using_list_comprehensions = [[ (column+1)*(row) for column in range(num_columns)]for row in range(num_rows)]\n",
    "print(\"nested list using list comprehensions\", a_nested_list_using_list_comprehensions)\n",
    "\n",
    "def transpose(nested_list):\n",
    "    #returns the transpose of the nested list\n",
    "    #We should return a new list (to_return) such that new_list[i][j]=nested_list[j][i]\n",
    "    nested_list_again = [[nested_list[row][col] for col in range(len(nested_list[0]))] for row in range(len(nested_list))]\n",
    "    print(\"this should be nested_list twice\", nested_list, nested_list_again)\n",
    "    #incorrectly_transposed_list = [[nested_list[col][row] for col in range(len(nested_list[0]))] for row in range(len(nested_list))]\n",
    "    #print(\"incorrect transpose\", incorrectly_transposed_list)\n",
    "    to_return = [[nested_list[col][row] for col in range(len(nested_list))] for row in range(len(nested_list[0]))]\n",
    "    return to_return\n",
    "print(\"the transpose \",transpose(a_nested_list_using_list_comprehensions))"
   ]
  },
  {
   "cell_type": "code",
   "execution_count": 7,
   "metadata": {},
   "outputs": [
    {
     "name": "stdout",
     "output_type": "stream",
     "text": [
      "9\n"
     ]
    }
   ],
   "source": [
    "print(list(range(10))[9] )"
   ]
  },
  {
   "cell_type": "code",
   "execution_count": 44,
   "metadata": {},
   "outputs": [
    {
     "name": "stdout",
     "output_type": "stream",
     "text": [
      "[0, 9, 18, 27, 36, 45, 54, 63, 72]\n",
      "[1, 10, 19, 28, 37, 46, 55, 64, 73]\n",
      "[2, 11, 20, 29, 38, 47, 56, 65, 74]\n",
      "[3, 12, 21, 30, 39, 48, 57, 66, 75]\n",
      "[4, 13, 22, 31, 40, 49, 58, 67, 76]\n",
      "[5, 14, 23, 32, 41, 50, 59, 68, 77]\n",
      "[6, 15, 24, 33, 42, 51, 60, 69, 78]\n",
      "[7, 16, 25, 34, 43, 52, 61, 70, 79]\n",
      "[8, 17, 26, 35, 44, 53, 62, 71, 80]\n",
      "--\n",
      "left square\n",
      "[0, 9, 18]\n",
      "[1, 10, 19]\n",
      "[2, 11, 20]\n",
      "[[[[0, 9, 18], [1, 10, 19], [2, 11, 20]], [[3, 12, 21], [4, 13, 22], [5, 14, 23]], [[6, 15, 24], [7, 16, 25], [8, 17, 26]]], [[[27, 36, 45], [28, 37, 46], [29, 38, 47]], [[30, 39, 48], [31, 40, 49], [32, 41, 50]], [[33, 42, 51], [34, 43, 52], [35, 44, 53]]], [[[54, 63, 72], [55, 64, 73], [56, 65, 74]], [[57, 66, 75], [58, 67, 76], [59, 68, 77]], [[60, 69, 78], [61, 70, 79], [62, 71, 80]]]]\n",
      "[57, 66, 75]\n",
      "[58, 67, 76]\n",
      "[59, 68, 77]\n"
     ]
    }
   ],
   "source": [
    "sudoku_board = [[ 9*col + row for col in range(9)] for row in range(9) ]\n",
    "def print_board(sudoku_board):\n",
    "    for row in sudoku_board:\n",
    "        print(row)\n",
    "print_board(sudoku_board)\n",
    "\n",
    "def get_3x3_squares(sudoku_board):\n",
    "    #input: a 9x9 nested list.\n",
    "    #Output: is a nested list (of length 3x3) of 3x3 nested lists.\n",
    "\n",
    "\n",
    "    def create_3x3_square(big_row_index, big_column_index, sudoku_board):\n",
    "        #We expect big_row_index and big_column index to be numbers in 0,1,2.\n",
    "        #sudoku_board should be a 9x9 nested list.\n",
    "        #Return the 3x3 nested list that is in the (big_row_index, big_column_index) cell of the sudoku board.\n",
    "        return [ row[3*big_column_index:3+3*big_column_index] for row in sudoku_board[3*big_row_index:3+3*big_row_index]]\n",
    "    \n",
    "    top_left_square = [ row[:3] for row in sudoku_board[:3]]\n",
    "\n",
    "    wrong_top_left_square= sudoku_board[:3][:3]\n",
    "\n",
    "    print(\"left square\")\n",
    "    print_board(top_left_square)\n",
    "\n",
    "    print([[create_3x3_square(big_row_index, big_column_index,sudoku_board) for big_row_index in range(3)] for big_column_index in range(3)])\n",
    "    #print_board(top_left_square)\n",
    "    return [[create_3x3_square(big_column_index, big_row_index,sudoku_board) for big_row_index in range(3)] for big_column_index in range(3)]\n",
    "print(\"--\")\n",
    "\n",
    "all_3x3_squares = get_3x3_squares(sudoku_board)\n",
    "\n",
    "print_board(all_3x3_squares[1][2])\n"
   ]
  },
  {
   "cell_type": "markdown",
   "metadata": {},
   "source": [
    "<h3>Hashes, dictionaries</h3>\n",
    "\n",
    "A hash is a key/value store. You give it a key, and it returns a value. In Python, hashes are implemented as dictionaries."
   ]
  },
  {
   "cell_type": "code",
   "execution_count": 79,
   "metadata": {},
   "outputs": [
    {
     "name": "stdout",
     "output_type": "stream",
     "text": [
      "True\n",
      "{'key1': 7, 'key2': 0, 6: 'value', 10: 10}\n",
      "7\n",
      "8\n",
      "{'key1': 8, 'key2': 0, 6: 'value', 10: 10, 'new_key': [5, 6, 7]}\n",
      "5 6 7\n",
      "5 6 7\n"
     ]
    }
   ],
   "source": [
    "dictionary = {\"key1\":7, \"key2\":0, 6:\"value\", 10:10}\n",
    "dictionary2 = {10:10, \"key1\":7, \"key2\": 0, 6:\"value\"}\n",
    "print(dictionary==dictionary2)\n",
    "print(dictionary)\n",
    "\n",
    "#Getting a value based on the key\n",
    "print(dictionary[\"key1\"]) #should print 7.\n",
    "\n",
    "#Update the dictionary\n",
    "dictionary[\"key1\"]=8\n",
    "print(dictionary[\"key1\"])\n",
    "x=[5,6,7]\n",
    "dictionary[\"new_key\"]=x\n",
    "print(dictionary)\n",
    "#print(dictionary[\"new_key\"])\n",
    "\n",
    "#What if we want to print 5 6 7, the value of dictionary[\"new_key\"] without []'s that indicate a list?\n",
    "string_to_print = \"\"\n",
    "first_time_in_loop = True\n",
    "for value in dictionary[\"new_key\"]:\n",
    "    if first_time_in_loop:\n",
    "        string_to_print = str(value)\n",
    "        first_time_in_loop = False\n",
    "    else:\n",
    "        string_to_print = string_to_print + \" \" + str(value)\n",
    "print(string_to_print)\n",
    "\n",
    "print(' '.join([ str(val) for val in dictionary[\"new_key\"] ]))"
   ]
  },
  {
   "cell_type": "code",
   "execution_count": 81,
   "metadata": {},
   "outputs": [
    {
     "name": "stdout",
     "output_type": "stream",
     "text": [
      "key1\n",
      "a\n",
      "b\n",
      "{'key1': '8 extra ending extra ending', 'key2': 0, 6: 'value', 10: 10, 'new_key': [5, 6, 7], 'a': 'extra ending', 'b': 'extra ending'}\n"
     ]
    }
   ],
   "source": [
    "#print(dictionary[\"key_that_does_not_exist\"])\n",
    "\n",
    "list_of_keys = [\"key1\",\"a\",\"b\"]\n",
    "for key_in_list in list_of_keys:\n",
    "    print(key_in_list)\n",
    "    #dictionary[key_in_list] = str(dictionary[key_in_list]) + \" extra ending\"\n",
    "    if key_in_list in dictionary.keys():\n",
    "        dictionary[key_in_list] = str(dictionary[key_in_list]) + \" extra ending\"\n",
    "    else:\n",
    "        dictionary[key_in_list] = \"extra ending\"\n",
    "\n",
    "print(dictionary)"
   ]
  },
  {
   "cell_type": "markdown",
   "metadata": {},
   "source": [
    "<h3>Using lists in place of dictionaries</h3>\n",
    "\n",
    "A list is much like a dictionary except that they keys are all consecutive integers. For a dictionary, these keys could be anything, like strings. Let's see why you can always use lists instead of dictionaries. This gets messy, so it's better to use dictionaries rather than working around them."
   ]
  },
  {
   "cell_type": "code",
   "execution_count": 84,
   "metadata": {},
   "outputs": [
    {
     "name": "stdout",
     "output_type": "stream",
     "text": [
      "[('key1', 5), ('key2', 8), ('key3', 6)]\n",
      "8\n"
     ]
    }
   ],
   "source": [
    "dictionary = {\"key1\": 5, \"key2\": 8, \"key3\": 6} #This is the dictionary that we want to implement using lists.\n",
    "\n",
    "list_of_values = [5,8,6]\n",
    "list_of_keys = [\"key1\",\"key2\",\"key3\"]\n",
    "\n",
    "list_recreation_of_dictionary = list(zip(list_of_keys, list_of_values))\n",
    "\n",
    "print(list_recreation_of_dictionary)\n",
    "\n",
    "#Let's say we want the value associated with 'key2'\n",
    "for pair in list_recreation_of_dictionary:\n",
    "    if pair[0]=='key2':\n",
    "        print(pair[1])\n",
    "#raise KeyError"
   ]
  },
  {
   "cell_type": "code",
   "execution_count": 97,
   "metadata": {},
   "outputs": [
    {
     "name": "stdout",
     "output_type": "stream",
     "text": [
      "{frozendict.frozendict({1: 1, 2: 2}): 'string_value'}\n"
     ]
    }
   ],
   "source": [
    "import frozendict\n",
    "inner_dict = {1:1, 2:2}\n",
    "inner_dict = frozendict.frozendict(inner_dict)\n",
    "outer_dict = {inner_dict: \"string_value\"}\n",
    "print(outer_dict)\n",
    "#inner_dict[\"new_key\"]=\"new_value\""
   ]
  },
  {
   "cell_type": "markdown",
   "metadata": {},
   "source": [
    "<h3>Sets, Tuples</h3>\n",
    "A set is like a list, except that it doesn't have an order to the elements. And Tuples are like lists, except that they are immutable (can't be changed)."
   ]
  },
  {
   "cell_type": "code",
   "execution_count": 107,
   "metadata": {},
   "outputs": [
    {
     "name": "stdout",
     "output_type": "stream",
     "text": [
      "{3, 'strings', 5}\n",
      "(4,)\n",
      "3\n",
      "4\n",
      "5\n"
     ]
    },
    {
     "ename": "TypeError",
     "evalue": "'tuple' object does not support item assignment",
     "output_type": "error",
     "traceback": [
      "\u001b[0;31m---------------------------------------------------------------------------\u001b[0m",
      "\u001b[0;31mTypeError\u001b[0m                                 Traceback (most recent call last)",
      "Cell \u001b[0;32mIn[107], line 10\u001b[0m\n\u001b[1;32m      8\u001b[0m \u001b[38;5;28mprint\u001b[39m(y)\n\u001b[1;32m      9\u001b[0m \u001b[38;5;28mprint\u001b[39m(z)\n\u001b[0;32m---> 10\u001b[0m \u001b[43mexample_tuple\u001b[49m\u001b[43m[\u001b[49m\u001b[38;5;241;43m0\u001b[39;49m\u001b[43m]\u001b[49m\u001b[38;5;241m=\u001b[39m\u001b[38;5;241m5\u001b[39m\n",
      "\u001b[0;31mTypeError\u001b[0m: 'tuple' object does not support item assignment"
     ]
    }
   ],
   "source": [
    "example_set = {3,5, \"strings\"}\n",
    "#Apparently, you can't have nested sets.\n",
    "print(example_set)\n",
    "example_tuple = (3,4,5)\n",
    "print(example_tuple[1:2])\n",
    "x, y, z= example_tuple\n",
    "print(x)\n",
    "print(y)\n",
    "print(z)\n",
    "#example_tuple[0]=5 #throws an error"
   ]
  },
  {
   "cell_type": "markdown",
   "metadata": {},
   "source": []
  }
 ],
 "metadata": {
  "kernelspec": {
   "display_name": "Python 3",
   "language": "python",
   "name": "python3"
  },
  "language_info": {
   "codemirror_mode": {
    "name": "ipython",
    "version": 3
   },
   "file_extension": ".py",
   "mimetype": "text/x-python",
   "name": "python",
   "nbconvert_exporter": "python",
   "pygments_lexer": "ipython3",
   "version": "3.10.12"
  }
 },
 "nbformat": 4,
 "nbformat_minor": 2
}
