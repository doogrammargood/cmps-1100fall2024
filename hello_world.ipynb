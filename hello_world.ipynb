{
 "cells": [
  {
   "cell_type": "code",
   "execution_count": 4,
   "metadata": {},
   "outputs": [
    {
     "name": "stdout",
     "output_type": "stream",
     "text": [
      "Hello world!!\n"
     ]
    }
   ],
   "source": [
    "print(\"Hello world!!\")"
   ]
  },
  {
   "cell_type": "markdown",
   "metadata": {},
   "source": [
    "The Hello World program is the first program that you write. It prints the words \"Hello World\""
   ]
  },
  {
   "cell_type": "markdown",
   "metadata": {},
   "source": [
    "\"Hello world\" is called a string (sequence of letters)\n",
    "print is a function that takes in a string and prints it out."
   ]
  },
  {
   "cell_type": "code",
   "execution_count": 21,
   "metadata": {},
   "outputs": [
    {
     "name": "stdout",
     "output_type": "stream",
     "text": [
      "hey\n"
     ]
    }
   ],
   "source": [
    "x = \"hey\" # This hash is a comments\n",
    "            # x is a variable.\n",
    "            # = is an assignment. This assigns the varibale x the string \"hello\"\n",
    "print(x)"
   ]
  },
  {
   "cell_type": "markdown",
   "metadata": {},
   "source": [
    "Example exercise: Print the words \"Hello Universe\""
   ]
  },
  {
   "cell_type": "code",
   "execution_count": 6,
   "metadata": {},
   "outputs": [
    {
     "name": "stdout",
     "output_type": "stream",
     "text": [
      "Hello Universe\n"
     ]
    }
   ],
   "source": [
    "print(\"Hello Universe\")"
   ]
  },
  {
   "cell_type": "markdown",
   "metadata": {},
   "source": [
    "<h2>Arithmetic</h2>\n",
    "\n",
    "You can add, subtract, multiply and divide in Python."
   ]
  },
  {
   "cell_type": "code",
   "execution_count": 26,
   "metadata": {},
   "outputs": [
    {
     "name": "stdout",
     "output_type": "stream",
     "text": [
      "The value of x is  5\n",
      "The value of x+y is  12\n",
      "The value of x*y is  35\n",
      "The value of x-y is  -2\n",
      "The value of x/y is 0.7142857142857143\n",
      "The value of x^y is  78125\n",
      "The value of x^y is  2\n",
      "The value of x mod y is the remainder of x after its divided by y or  5\n",
      "The value of y mod x is  2\n",
      "The value of x//y is the floor of x/y 0\n",
      "The value of y//x is the floor of y/x 1\n"
     ]
    }
   ],
   "source": [
    "x=5\n",
    "print(\"The value of x is \", x)\n",
    "y=7\n",
    "#Here are the basic arithmetic operations:\n",
    "print(\"The value of x+y is \", x+y)\n",
    "print(\"The value of x*y is \", x*y)\n",
    "print(\"The value of x-y is \", x-y)\n",
    "print(\"The value of x/y is\", x/y)\n",
    "print(\"The value of x^y is \", x**y)\n",
    "print(\"The value of x^y is \", x^y) #Convert to binary and do exclusive or.\n",
    "#Here are some other arithmetic operations:\n",
    "print(\"The value of x mod y is the remainder of x after its divided by y or \", x%y)\n",
    "print(\"The value of y mod x is \", y%x)\n",
    "print(\"The value of x//y is the floor of x/y\", x//y)\n",
    "print(\"The value of y//x is the floor of y/x\", y//x)\n"
   ]
  },
  {
   "cell_type": "markdown",
   "metadata": {},
   "source": [
    "The python operations can be augmented with parenthesis to create more complicated <i>expressions</i>."
   ]
  },
  {
   "cell_type": "code",
   "execution_count": 16,
   "metadata": {},
   "outputs": [
    {
     "name": "stdout",
     "output_type": "stream",
     "text": [
      "3.25\n"
     ]
    }
   ],
   "source": [
    "x=(7+3)/8+2\n",
    "print(x)"
   ]
  },
  {
   "cell_type": "code",
   "execution_count": 17,
   "metadata": {},
   "outputs": [
    {
     "ename": "ZeroDivisionError",
     "evalue": "division by zero",
     "output_type": "error",
     "traceback": [
      "\u001b[0;31m---------------------------------------------------------------------------\u001b[0m",
      "\u001b[0;31mZeroDivisionError\u001b[0m                         Traceback (most recent call last)",
      "Cell \u001b[0;32mIn[17], line 1\u001b[0m\n\u001b[0;32m----> 1\u001b[0m \u001b[38;5;28mprint\u001b[39m(\u001b[38;5;241;43m5\u001b[39;49m\u001b[38;5;241;43m/\u001b[39;49m\u001b[38;5;241;43m0\u001b[39;49m)\n",
      "\u001b[0;31mZeroDivisionError\u001b[0m: division by zero"
     ]
    }
   ],
   "source": [
    "print(5/0)"
   ]
  },
  {
   "cell_type": "code",
   "execution_count": 18,
   "metadata": {},
   "outputs": [
    {
     "name": "stdout",
     "output_type": "stream",
     "text": [
      "Select operation:\n",
      "1. Add\n",
      "2. Subtract\n",
      "3. Multiply\n",
      "4. Divide\n",
      "Invalid input\n"
     ]
    }
   ],
   "source": []
  },
  {
   "cell_type": "markdown",
   "metadata": {},
   "source": [
    "<h1>Strings</h1>"
   ]
  },
  {
   "cell_type": "markdown",
   "metadata": {},
   "source": [
    "A string is a series of letters, treated as text by Python."
   ]
  },
  {
   "cell_type": "code",
   "execution_count": 44,
   "metadata": {},
   "outputs": [
    {
     "name": "stdout",
     "output_type": "stream",
     "text": [
      "hello world\n",
      "hello world\n",
      "True\n",
      "The type of x is  <class 'str'>\n",
      "The type of y is  <class 'int'>\n"
     ]
    }
   ],
   "source": [
    "\"hello world\" #is a string\n",
    "'hello world' #is also a string\n",
    "x = \"hello world\" #Assigns the string to the variable x\n",
    "y = 'hello world'\n",
    "print(x)\n",
    "print(y)\n",
    "print(x==y)\n",
    "#String is a particular type.\n",
    "print(\"The type of x is \", type(x)) #Type(x) allows you to check what sort of thing x is.\n",
    "y=5\n",
    "print(\"The type of y is \", type(y))"
   ]
  },
  {
   "cell_type": "markdown",
   "metadata": {},
   "source": [
    "<h2>The Emptystring/Weird strings<h2>"
   ]
  },
  {
   "cell_type": "markdown",
   "metadata": {},
   "source": [
    "<h2>Empty string</h2>"
   ]
  },
  {
   "cell_type": "code",
   "execution_count": 19,
   "metadata": {},
   "outputs": [
    {
     "name": "stdout",
     "output_type": "stream",
     "text": [
      "\n",
      "<class 'str'>\n",
      "None\n",
      "<class 'NoneType'>\n",
      "False\n",
      "Laura said \"The bat is in the cave \" and then she ran off.\n",
      "This should be one backslash: \\\n",
      " \"\" \n",
      "\\\"\\\"\n"
     ]
    }
   ],
   "source": [
    "emptystring = \"\"\n",
    "print(emptystring) #prints nothing\n",
    "print(type(emptystring)) #The empty string is still a string.\n",
    "none_variable = None\n",
    "print(none_variable)\n",
    "print(type(none_variable))\n",
    "\n",
    "print(emptystring == None) #No, the emptystring is not the same as None.\n"
   ]
  },
  {
   "cell_type": "markdown",
   "metadata": {},
   "source": [
    "<h2>Escape Characters</h2>\n",
    "\n",
    "What if the string itself is supposed to contain a quotation mark?\n",
    "In this case, use backslashes (called escape characters) to tell the interpreter that the\n",
    "quotiation marks are part of the string and not part of the Python."
   ]
  },
  {
   "cell_type": "code",
   "execution_count": 46,
   "metadata": {},
   "outputs": [
    {
     "name": "stdout",
     "output_type": "stream",
     "text": [
      "Laura said \"The bat is in the cave \" and then she ran off.\n",
      "This should be one backslash: \\\n",
      " \"\" \n",
      "\\\"\\\"\n"
     ]
    }
   ],
   "source": [
    "\n",
    "what_I_heard = \"Laura said \\\"The bat is in the cave \\\" and then she ran off.\"\n",
    "print(what_I_heard)\n",
    "#What if we want to include a backslash in the text?\n",
    "#In this case, we use \\\\\n",
    "print(\"This should be one backslash: \\\\\")\n",
    "#Try to print \\\"\\\" literally,\n",
    "print(\" \\\"\\\" \") #will print \"\"\n",
    "print(\"\\\\\\\"\\\\\\\"\")"
   ]
  },
  {
   "cell_type": "markdown",
   "metadata": {},
   "source": [
    "<h2>Single quotes</h2>\n",
    "Strings can be written using single quotes instead of double quotes. It doesn't change much, but double quotes are usually better because you can use single quotes as letters."
   ]
  },
  {
   "cell_type": "code",
   "execution_count": 20,
   "metadata": {},
   "outputs": [
    {
     "name": "stdout",
     "output_type": "stream",
     "text": [
      "string with single quotes\n",
      "string with double quotes\n"
     ]
    }
   ],
   "source": [
    "x='string with single quotes'\n",
    "print(x)\n",
    "y=\"string with double quotes\"\n",
    "print(y)"
   ]
  },
  {
   "cell_type": "code",
   "execution_count": 48,
   "metadata": {},
   "outputs": [
    {
     "name": "stdout",
     "output_type": "stream",
     "text": [
      "string with single quote's and another single quote string with double quote's and another\n"
     ]
    }
   ],
   "source": [
    "x= 'string with single quote\\'s and another single quote'\n",
    "y= \"string with double quote's and another\"\n",
    "print(x,y)"
   ]
  },
  {
   "cell_type": "markdown",
   "metadata": {},
   "source": [
    "<h2>Concatenation</h2>\n",
    "If you have two strings, you can combine them by putting one string after the other. This is called concatenation. You can use the '+' operator in Python to achieve this."
   ]
  },
  {
   "cell_type": "code",
   "execution_count": 51,
   "metadata": {},
   "outputs": [
    {
     "name": "stdout",
     "output_type": "stream",
     "text": [
      "first string second string\n"
     ]
    }
   ],
   "source": [
    "string1 = \"first string \"\n",
    "string2 = \"second string\"\n",
    "concatenated_string = string1 + string2\n",
    "print(concatenated_string)"
   ]
  },
  {
   "cell_type": "markdown",
   "metadata": {},
   "source": [
    "<h2>Reverse</h2>\n",
    "If you have a string, then you can reverse it. This is, read it backwards."
   ]
  },
  {
   "cell_type": "code",
   "execution_count": 32,
   "metadata": {},
   "outputs": [
    {
     "name": "stdout",
     "output_type": "stream",
     "text": [
      "fedcba\n"
     ]
    }
   ],
   "source": [
    "string_original = \"abcdef\"\n",
    "string_reversed = string_original[::-1]\n",
    "print(string_reversed)\n"
   ]
  },
  {
   "cell_type": "markdown",
   "metadata": {},
   "source": [
    "<h2>String Slicing</h2>\n",
    "If you want to only look at the first few letters, or the last few letters, or some letters in the middle or you want to skip and only read the even-positioned letters, then we can use string slicing.\n",
    "\n",
    "We write s[x:y:z], where\n",
    "1. s is a string (string that you want to slice)\n",
    "2. x is the first index that you want to keep. (default is 0)\n",
    "3. y-1 is the last index. (default value is the length of the string)\n",
    "4. z is the increment by which you step. (default value is 1)"
   ]
  },
  {
   "cell_type": "code",
   "execution_count": 54,
   "metadata": {},
   "outputs": [
    {
     "name": "stdout",
     "output_type": "stream",
     "text": [
      "abc\n",
      "3\n",
      "ace\n",
      "fedcba\n",
      "abcde abcde\n",
      "e\n"
     ]
    }
   ],
   "source": [
    "alphabet = \"abcdef\"\n",
    "first_three_letters = alphabet[:3] # Same as alphabet[0:3:1]\n",
    "print(first_three_letters)\n",
    "#the length of the string s[:x] will be x (unlesss len(s) is smaller than x)\n",
    "print(len(first_three_letters))\n",
    "\n",
    "every_other_letter = alphabet[::2] #Same as alphabet[0:len(alphabet):2]\n",
    "print(every_other_letter)\n",
    "\n",
    "reverse = alphabet[::-1]\n",
    "print(reverse)\n",
    "\n",
    "all_except_last = alphabet[:len(alphabet)-1]\n",
    "another_way_to_get_all_except_last = alphabet[:-1]\n",
    "\n",
    "print(all_except_last, another_way_to_get_all_except_last)\n",
    "\n",
    "#You can get the jth letter of a string by indexing s[j]\n",
    "\n",
    "print(alphabet[4])"
   ]
  },
  {
   "cell_type": "code",
   "execution_count": null,
   "metadata": {},
   "outputs": [],
   "source": []
  },
  {
   "cell_type": "markdown",
   "metadata": {},
   "source": [
    "<h2>String formatting</h2>\n",
    "String formatting is a clean way to write strings and variables at the same time."
   ]
  },
  {
   "cell_type": "code",
   "execution_count": 56,
   "metadata": {},
   "outputs": [
    {
     "name": "stdout",
     "output_type": "stream",
     "text": [
      "the value of x is:  hello world\n",
      "hello world * hello world = the answer\n"
     ]
    }
   ],
   "source": [
    "x=\"hello world\"\n",
    "print(\"the value of x is: \", x)\n",
    "\n",
    "print(f\"{x} * {x} = the answer\")"
   ]
  },
  {
   "cell_type": "code",
   "execution_count": null,
   "metadata": {},
   "outputs": [],
   "source": []
  }
 ],
 "metadata": {
  "kernelspec": {
   "display_name": "Python 3",
   "language": "python",
   "name": "python3"
  },
  "language_info": {
   "codemirror_mode": {
    "name": "ipython",
    "version": 3
   },
   "file_extension": ".py",
   "mimetype": "text/x-python",
   "name": "python",
   "nbconvert_exporter": "python",
   "pygments_lexer": "ipython3",
   "version": "3.10.12"
  }
 },
 "nbformat": 4,
 "nbformat_minor": 2
}
